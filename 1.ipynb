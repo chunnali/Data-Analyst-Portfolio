{
 "cells": [
  {
   "cell_type": "markdown",
   "metadata": {},
   "source": [
    "# COVID - 19\n",
    "\n",
    "Questions:\n",
    "\n",
    "\n",
    "\n",
    "Datasource: Google Cloud - Public Datasets, Covid19_usafacts"
   ]
  },
  {
   "cell_type": "code",
   "execution_count": null,
   "metadata": {},
   "outputs": [],
   "source": [
    "import pandas as pd"
   ]
  },
  {
   "cell_type": "code",
   "execution_count": 5,
   "metadata": {},
   "outputs": [
    {
     "name": "stdout",
     "output_type": "stream",
     "text": [
      "   county_fips_code       county_name state  state_fips_code  _2020_01_22  \\\n",
      "0              1003   Baldwin County     AL                1            0   \n",
      "1              1015   Calhoun County     AL                1            0   \n",
      "2              1017  Chambers County     AL                1            0   \n",
      "3              1031    Coffee County     AL                1            0   \n",
      "4              1051    Elmore County     AL                1            0   \n",
      "\n",
      "   _2020_01_23  _2020_01_24  _2020_01_25  _2020_01_26  _2020_01_27  ...  \\\n",
      "0            0            0            0            0            0  ...   \n",
      "1            0            0            0            0            0  ...   \n",
      "2            0            0            0            0            0  ...   \n",
      "3            0            0            0            0            0  ...   \n",
      "4            0            0            0            0            0  ...   \n",
      "\n",
      "   _2021_09_12  _2021_09_13  _2021_09_14  _2021_09_15  _2021_09_16  \\\n",
      "0        34726        35039        35221        35347        35517   \n",
      "1        19049        19359        19473        19621        19823   \n",
      "2         5019         5084         5125         5155         5182   \n",
      "3         8372         8468         8505         8550         8598   \n",
      "4        13543        13694        13754        13812        13893   \n",
      "\n",
      "   _2021_09_17  _2021_09_18  _2021_09_19  _2021_09_20  _2021_09_21  \n",
      "0        35619        35619        35619        35814        35886  \n",
      "1        19941        19941        19941        20380        20614  \n",
      "2         5211         5211         5211         5281         5305  \n",
      "3         8625         8625         8625         8681         8708  \n",
      "4        13943        13943        13943        14064        14192  \n",
      "\n",
      "[5 rows x 613 columns]\n"
     ]
    }
   ],
   "source": [
    "#create dataframe from\n",
    "df = pd.read_csv(r'C:\\Users\\Chunna\\Documents\\Jupterlab\\Covid\\confirmed_cases.csv')\n",
    "print(df.head())"
   ]
  },
  {
   "cell_type": "code",
   "execution_count": 15,
   "metadata": {},
   "outputs": [
    {
     "data": {
      "text/plain": [
       "0         0.000\n",
       "1         0.000\n",
       "2         0.000\n",
       "3         0.000\n",
       "4         0.000\n",
       "          ...  \n",
       "594379    0.301\n",
       "594380    0.663\n",
       "594381    1.228\n",
       "594382    0.200\n",
       "594383    0.559\n",
       "Name: cases, Length: 594384, dtype: float64"
      ]
     },
     "execution_count": 15,
     "metadata": {},
     "output_type": "execute_result"
    }
   ],
   "source": [
    "#manipulate data: remove columns & unpivot\n",
    "df_drop = df.drop(columns=['county_fips_code','county_name','state_fips_code'])\n",
    "df_unpivot = df_drop.melt(id_vars=['state'], var_name='date', value_name='cases')\n",
    "df_unpivot"
   ]
  },
  {
   "cell_type": "code",
   "execution_count": 12,
   "metadata": {},
   "outputs": [
    {
     "data": {
      "text/html": [
       "<div>\n",
       "<style scoped>\n",
       "    .dataframe tbody tr th:only-of-type {\n",
       "        vertical-align: middle;\n",
       "    }\n",
       "\n",
       "    .dataframe tbody tr th {\n",
       "        vertical-align: top;\n",
       "    }\n",
       "\n",
       "    .dataframe thead th {\n",
       "        text-align: right;\n",
       "    }\n",
       "</style>\n",
       "<table border=\"1\" class=\"dataframe\">\n",
       "  <thead>\n",
       "    <tr style=\"text-align: right;\">\n",
       "      <th></th>\n",
       "      <th>cases</th>\n",
       "    </tr>\n",
       "  </thead>\n",
       "  <tbody>\n",
       "    <tr>\n",
       "      <th>count</th>\n",
       "      <td>5.943840e+05</td>\n",
       "    </tr>\n",
       "    <tr>\n",
       "      <th>mean</th>\n",
       "      <td>1.407458e+04</td>\n",
       "    </tr>\n",
       "    <tr>\n",
       "      <th>std</th>\n",
       "      <td>4.318904e+04</td>\n",
       "    </tr>\n",
       "    <tr>\n",
       "      <th>min</th>\n",
       "      <td>0.000000e+00</td>\n",
       "    </tr>\n",
       "    <tr>\n",
       "      <th>25%</th>\n",
       "      <td>3.280000e+02</td>\n",
       "    </tr>\n",
       "    <tr>\n",
       "      <th>50%</th>\n",
       "      <td>3.116000e+03</td>\n",
       "    </tr>\n",
       "    <tr>\n",
       "      <th>75%</th>\n",
       "      <td>1.231800e+04</td>\n",
       "    </tr>\n",
       "    <tr>\n",
       "      <th>max</th>\n",
       "      <td>1.381978e+06</td>\n",
       "    </tr>\n",
       "  </tbody>\n",
       "</table>\n",
       "</div>"
      ],
      "text/plain": [
       "              cases\n",
       "count  5.943840e+05\n",
       "mean   1.407458e+04\n",
       "std    4.318904e+04\n",
       "min    0.000000e+00\n",
       "25%    3.280000e+02\n",
       "50%    3.116000e+03\n",
       "75%    1.231800e+04\n",
       "max    1.381978e+06"
      ]
     },
     "execution_count": 12,
     "metadata": {},
     "output_type": "execute_result"
    }
   ],
   "source": [
    "df_unpivot.describe()"
   ]
  },
  {
   "cell_type": "markdown",
   "metadata": {},
   "source": [
    "## Which top 5 states has the most covid cases?"
   ]
  },
  {
   "cell_type": "code",
   "execution_count": 26,
   "metadata": {},
   "outputs": [
    {
     "data": {
      "text/html": [
       "<div>\n",
       "<style scoped>\n",
       "    .dataframe tbody tr th:only-of-type {\n",
       "        vertical-align: middle;\n",
       "    }\n",
       "\n",
       "    .dataframe tbody tr th {\n",
       "        vertical-align: top;\n",
       "    }\n",
       "\n",
       "    .dataframe thead th {\n",
       "        text-align: right;\n",
       "    }\n",
       "</style>\n",
       "<table border=\"1\" class=\"dataframe\">\n",
       "  <thead>\n",
       "    <tr style=\"text-align: right;\">\n",
       "      <th></th>\n",
       "      <th>state</th>\n",
       "      <th>cases</th>\n",
       "    </tr>\n",
       "  </thead>\n",
       "  <tbody>\n",
       "    <tr>\n",
       "      <th>0</th>\n",
       "      <td>CA</td>\n",
       "      <td>1129431790</td>\n",
       "    </tr>\n",
       "    <tr>\n",
       "      <th>1</th>\n",
       "      <td>TX</td>\n",
       "      <td>761759977</td>\n",
       "    </tr>\n",
       "    <tr>\n",
       "      <th>2</th>\n",
       "      <td>FL</td>\n",
       "      <td>708179409</td>\n",
       "    </tr>\n",
       "    <tr>\n",
       "      <th>3</th>\n",
       "      <td>NY</td>\n",
       "      <td>613405335</td>\n",
       "    </tr>\n",
       "    <tr>\n",
       "      <th>4</th>\n",
       "      <td>IL</td>\n",
       "      <td>356670507</td>\n",
       "    </tr>\n",
       "  </tbody>\n",
       "</table>\n",
       "</div>"
      ],
      "text/plain": [
       "  state       cases\n",
       "0    CA  1129431790\n",
       "1    TX   761759977\n",
       "2    FL   708179409\n",
       "3    NY   613405335\n",
       "4    IL   356670507"
      ]
     },
     "execution_count": 26,
     "metadata": {},
     "output_type": "execute_result"
    }
   ],
   "source": [
    "df_unpivot.groupby('state')[['cases']].sum().sort_values('cases', ascending=False).head(5).round({'cases': 0}).astype(int).reset_index()"
   ]
  },
  {
   "cell_type": "code",
   "execution_count": null,
   "metadata": {},
   "outputs": [],
   "source": []
  }
 ],
 "metadata": {
  "kernelspec": {
   "display_name": "Python 3",
   "language": "python",
   "name": "python3"
  },
  "language_info": {
   "codemirror_mode": {
    "name": "ipython",
    "version": 3
   },
   "file_extension": ".py",
   "mimetype": "text/x-python",
   "name": "python",
   "nbconvert_exporter": "python",
   "pygments_lexer": "ipython3",
   "version": "3.8.1"
  }
 },
 "nbformat": 4,
 "nbformat_minor": 4
}
