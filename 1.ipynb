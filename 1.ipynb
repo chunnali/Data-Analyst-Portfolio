{
 "cells": [
  {
   "cell_type": "markdown",
   "metadata": {},
   "source": [
    "# COVID - 19\n",
    "\n",
    "Questions:\n",
    "\n",
    "\n",
    "\n",
    "Datasource: Google Cloud - Public Datasets, Covid19_usafacts"
   ]
  },
  {
   "cell_type": "code",
   "execution_count": 1,
   "metadata": {},
   "outputs": [],
   "source": [
    "import pandas as pd"
   ]
  },
  {
   "cell_type": "code",
   "execution_count": 2,
   "metadata": {},
   "outputs": [],
   "source": [
    "#create dataframe \n",
    "cases = pd.read_csv(r'C:\\Users\\Chunna\\Documents\\Jupterlab\\Covid\\confirmed_cases.csv')\n",
    "deaths = pd.read_csv(r'C:\\Users\\Chunna\\Documents\\Jupterlab\\Covid\\deaths.csv')\n"
   ]
  },
  {
   "cell_type": "code",
   "execution_count": 3,
   "metadata": {},
   "outputs": [
    {
     "name": "stdout",
     "output_type": "stream",
     "text": [
      "<class 'pandas.core.frame.DataFrame'>\n",
      "RangeIndex: 652239 entries, 0 to 652238\n",
      "Data columns (total 3 columns):\n",
      " #   Column  Non-Null Count   Dtype \n",
      "---  ------  --------------   ----- \n",
      " 0   state   652239 non-null  object\n",
      " 1   date    652239 non-null  object\n",
      " 2   deaths  652239 non-null  int64 \n",
      "dtypes: int64(1), object(2)\n",
      "memory usage: 14.9+ MB\n"
     ]
    }
   ],
   "source": [
    "#manipulate data: remove columns & unpivot\n",
    "cases_drop = cases.drop(columns=['county_fips_code','county_name','state_fips_code'])\n",
    "cases_unpivot = cases_drop.melt(id_vars=['state'], var_name='date', value_name='confirmed cases')\n",
    "cases_unpivot['date'] = cases_unpivot.date.str[1:].replace('_', '-',regex=True)\n",
    "\n",
    "deaths_drop = deaths.drop(columns=['county_fips_code','county_name','state_fips_code'])\n",
    "deaths_unpivot = deaths_drop.melt(id_vars=['state'], var_name='date', value_name='deaths')\n",
    "deaths_unpivot['date'] = deaths_unpivot.date.str[1:].replace('_', '-',regex=True)\n",
    "deaths_unpivot.info()"
   ]
  },
  {
   "cell_type": "code",
   "execution_count": null,
   "metadata": {},
   "outputs": [],
   "source": [
    "#merge dataframes\n",
    "df = pd.merge(cases_unpivot, deaths_unpivot, on='date', how='left')\n"
   ]
  },
  {
   "cell_type": "markdown",
   "metadata": {},
   "source": [
    "## Which top 5 states has the most covid cases?"
   ]
  },
  {
   "cell_type": "code",
   "execution_count": null,
   "metadata": {},
   "outputs": [],
   "source": [
    "cases_unpivot.groupby('state').sum().sort_values('cases', ascending=False).head(5).round({'cases': 0}).astype(int).reset_index()"
   ]
  },
  {
   "cell_type": "markdown",
   "metadata": {},
   "source": [
    "## Which state had the highest covid cases?"
   ]
  },
  {
   "cell_type": "code",
   "execution_count": null,
   "metadata": {},
   "outputs": [],
   "source": [
    "cases_unpivot.max()"
   ]
  },
  {
   "cell_type": "markdown",
   "metadata": {},
   "source": [
    "## Which state had the most covid cases?"
   ]
  },
  {
   "cell_type": "code",
   "execution_count": null,
   "metadata": {},
   "outputs": [],
   "source": [
    "cases_unpivot.groupby('state').sum()"
   ]
  },
  {
   "cell_type": "code",
   "execution_count": null,
   "metadata": {},
   "outputs": [],
   "source": []
  }
 ],
 "metadata": {
  "kernelspec": {
   "display_name": "Python 3",
   "language": "python",
   "name": "python3"
  },
  "language_info": {
   "codemirror_mode": {
    "name": "ipython",
    "version": 3
   },
   "file_extension": ".py",
   "mimetype": "text/x-python",
   "name": "python",
   "nbconvert_exporter": "python",
   "pygments_lexer": "ipython3",
   "version": "3.8.1"
  }
 },
 "nbformat": 4,
 "nbformat_minor": 4
}
