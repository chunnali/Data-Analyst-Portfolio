{
 "cells": [
  {
   "cell_type": "markdown",
   "metadata": {},
   "source": [
    "# COVID - 19\n",
    "\n",
    "Questions:\n",
    "\n",
    "\n",
    "\n",
    "Datasource: Google Cloud - Public Datasets, Covid19_usafacts"
   ]
  },
  {
   "cell_type": "code",
   "execution_count": 1,
   "metadata": {},
   "outputs": [],
   "source": [
    "import pandas as pd"
   ]
  },
  {
   "cell_type": "code",
   "execution_count": 2,
   "metadata": {},
   "outputs": [],
   "source": [
    "#create dataframe \n",
    "cases = pd.read_csv(r'C:\\Users\\Chunna\\Documents\\Jupterlab\\Covid\\confirmed_cases.csv')\n",
    "deaths = pd.read_csv(r'C:\\Users\\Chunna\\Documents\\Jupterlab\\Covid\\deaths.csv')\n"
   ]
  },
  {
   "cell_type": "code",
   "execution_count": 18,
   "metadata": {},
   "outputs": [
    {
     "data": {
      "text/html": [
       "<div>\n",
       "<style scoped>\n",
       "    .dataframe tbody tr th:only-of-type {\n",
       "        vertical-align: middle;\n",
       "    }\n",
       "\n",
       "    .dataframe tbody tr th {\n",
       "        vertical-align: top;\n",
       "    }\n",
       "\n",
       "    .dataframe thead th {\n",
       "        text-align: right;\n",
       "    }\n",
       "</style>\n",
       "<table border=\"1\" class=\"dataframe\">\n",
       "  <thead>\n",
       "    <tr style=\"text-align: right;\">\n",
       "      <th></th>\n",
       "      <th>county_name</th>\n",
       "      <th>state</th>\n",
       "      <th>date</th>\n",
       "      <th>rolling_deaths</th>\n",
       "      <th>deaths_calc</th>\n",
       "      <th>deaths</th>\n",
       "    </tr>\n",
       "  </thead>\n",
       "  <tbody>\n",
       "    <tr>\n",
       "      <th>88</th>\n",
       "      <td>Hopkins County</td>\n",
       "      <td>KY</td>\n",
       "      <td>2020-01-22</td>\n",
       "      <td>0</td>\n",
       "      <td>NaN</td>\n",
       "      <td>NaN</td>\n",
       "    </tr>\n",
       "    <tr>\n",
       "      <th>1159</th>\n",
       "      <td>Hopkins County</td>\n",
       "      <td>KY</td>\n",
       "      <td>2020-01-23</td>\n",
       "      <td>0</td>\n",
       "      <td>0.0</td>\n",
       "      <td>True</td>\n",
       "    </tr>\n",
       "    <tr>\n",
       "      <th>2230</th>\n",
       "      <td>Hopkins County</td>\n",
       "      <td>KY</td>\n",
       "      <td>2020-01-24</td>\n",
       "      <td>0</td>\n",
       "      <td>0.0</td>\n",
       "      <td>True</td>\n",
       "    </tr>\n",
       "    <tr>\n",
       "      <th>3301</th>\n",
       "      <td>Hopkins County</td>\n",
       "      <td>KY</td>\n",
       "      <td>2020-01-25</td>\n",
       "      <td>0</td>\n",
       "      <td>0.0</td>\n",
       "      <td>True</td>\n",
       "    </tr>\n",
       "    <tr>\n",
       "      <th>4372</th>\n",
       "      <td>Hopkins County</td>\n",
       "      <td>KY</td>\n",
       "      <td>2020-01-26</td>\n",
       "      <td>0</td>\n",
       "      <td>0.0</td>\n",
       "      <td>True</td>\n",
       "    </tr>\n",
       "    <tr>\n",
       "      <th>...</th>\n",
       "      <td>...</td>\n",
       "      <td>...</td>\n",
       "      <td>...</td>\n",
       "      <td>...</td>\n",
       "      <td>...</td>\n",
       "      <td>...</td>\n",
       "    </tr>\n",
       "    <tr>\n",
       "      <th>646972</th>\n",
       "      <td>Hopkins County</td>\n",
       "      <td>KY</td>\n",
       "      <td>2021-09-17</td>\n",
       "      <td>177</td>\n",
       "      <td>81.0</td>\n",
       "      <td>NaN</td>\n",
       "    </tr>\n",
       "    <tr>\n",
       "      <th>648043</th>\n",
       "      <td>Hopkins County</td>\n",
       "      <td>KY</td>\n",
       "      <td>2021-09-18</td>\n",
       "      <td>177</td>\n",
       "      <td>81.0</td>\n",
       "      <td>NaN</td>\n",
       "    </tr>\n",
       "    <tr>\n",
       "      <th>649114</th>\n",
       "      <td>Hopkins County</td>\n",
       "      <td>KY</td>\n",
       "      <td>2021-09-19</td>\n",
       "      <td>177</td>\n",
       "      <td>81.0</td>\n",
       "      <td>NaN</td>\n",
       "    </tr>\n",
       "    <tr>\n",
       "      <th>650185</th>\n",
       "      <td>Hopkins County</td>\n",
       "      <td>KY</td>\n",
       "      <td>2021-09-20</td>\n",
       "      <td>177</td>\n",
       "      <td>81.0</td>\n",
       "      <td>NaN</td>\n",
       "    </tr>\n",
       "    <tr>\n",
       "      <th>651256</th>\n",
       "      <td>Hopkins County</td>\n",
       "      <td>KY</td>\n",
       "      <td>2021-09-21</td>\n",
       "      <td>179</td>\n",
       "      <td>81.0</td>\n",
       "      <td>NaN</td>\n",
       "    </tr>\n",
       "  </tbody>\n",
       "</table>\n",
       "<p>609 rows × 6 columns</p>\n",
       "</div>"
      ],
      "text/plain": [
       "            county_name state        date  rolling_deaths  deaths_calc deaths\n",
       "88      Hopkins County     KY  2020-01-22               0          NaN    NaN\n",
       "1159    Hopkins County     KY  2020-01-23               0          0.0   True\n",
       "2230    Hopkins County     KY  2020-01-24               0          0.0   True\n",
       "3301    Hopkins County     KY  2020-01-25               0          0.0   True\n",
       "4372    Hopkins County     KY  2020-01-26               0          0.0   True\n",
       "...                 ...   ...         ...             ...          ...    ...\n",
       "646972  Hopkins County     KY  2021-09-17             177         81.0    NaN\n",
       "648043  Hopkins County     KY  2021-09-18             177         81.0    NaN\n",
       "649114  Hopkins County     KY  2021-09-19             177         81.0    NaN\n",
       "650185  Hopkins County     KY  2021-09-20             177         81.0    NaN\n",
       "651256  Hopkins County     KY  2021-09-21             179         81.0    NaN\n",
       "\n",
       "[609 rows x 6 columns]"
      ]
     },
     "execution_count": 18,
     "metadata": {},
     "output_type": "execute_result"
    }
   ],
   "source": [
    "#manipulate data: remove columns & unpivot\n",
    "cases_drop = cases.drop(columns=['county_fips_code','state_fips_code'])\n",
    "cases_unpivot = cases_drop.melt(id_vars=['county_name','state'], var_name='date', value_name='rolling_confirmed cases')\n",
    "cases_unpivot['date'] = cases_unpivot.date.str[1:].replace('_', '-',regex=True)\n",
    "#deaths_drop = deaths.drop(columns=['county_fips_code','state_fips_code'])\n",
    "deaths_unpivot = deaths_drop.melt(id_vars=['county_name','state'], var_name='date', value_name='rolling_deaths')\n",
    "deaths_unpivot['date'] = deaths_unpivot.date.str[1:].replace('_', '-',regex=True)\n",
    "\n",
    "\n",
    "#remove rolling deaths\n",
    "deaths_unpivot['deaths_calc'] = deaths_unpivot.groupby(['state'])['rolling_deaths'].shift(1)\n",
    "deaths_unpivot.loc[deaths_unpivot['deaths_calc'] == deaths_unpivot['rolling_deaths'], 'deaths'] = True\n",
    "\n",
    "\n",
    "\n",
    "county = deaths_unpivot['county_name'] == 'Hopkins County '\n",
    "state = deaths_unpivot['state'] == 'KY'\n",
    "date = deaths_unpivot['date'] == '2021-09-21'\n",
    "deaths_unpivot[county & state].sort_values(['date'], ascending=True)\n",
    "#each date has rolling total\n"
   ]
  },
  {
   "cell_type": "code",
   "execution_count": 4,
   "metadata": {},
   "outputs": [
    {
     "ename": "NameError",
     "evalue": "name 'df_cases' is not defined",
     "output_type": "error",
     "traceback": [
      "\u001b[1;31m---------------------------------------------------------------------------\u001b[0m",
      "\u001b[1;31mNameError\u001b[0m                                 Traceback (most recent call last)",
      "\u001b[1;32m<ipython-input-4-5394539932be>\u001b[0m in \u001b[0;36m<module>\u001b[1;34m\u001b[0m\n\u001b[0;32m      1\u001b[0m \u001b[1;31m#merge dataframes\u001b[0m\u001b[1;33m\u001b[0m\u001b[1;33m\u001b[0m\u001b[1;33m\u001b[0m\u001b[0m\n\u001b[1;32m----> 2\u001b[1;33m \u001b[0mdf\u001b[0m \u001b[1;33m=\u001b[0m \u001b[0mpd\u001b[0m\u001b[1;33m.\u001b[0m\u001b[0mmerge\u001b[0m\u001b[1;33m(\u001b[0m\u001b[0mdf_cases\u001b[0m\u001b[1;33m,\u001b[0m\u001b[0mdf_deaths\u001b[0m\u001b[1;33m)\u001b[0m\u001b[1;33m\u001b[0m\u001b[1;33m\u001b[0m\u001b[0m\n\u001b[0m\u001b[0;32m      3\u001b[0m \u001b[1;31m##df = df.groupby(['state','date']).agg({'confirmed cases':'sum','deaths':'sum'}).reset_index()\u001b[0m\u001b[1;33m\u001b[0m\u001b[1;33m\u001b[0m\u001b[1;33m\u001b[0m\u001b[0m\n\u001b[0;32m      4\u001b[0m \u001b[0mdf\u001b[0m\u001b[1;33m\u001b[0m\u001b[1;33m\u001b[0m\u001b[0m\n",
      "\u001b[1;31mNameError\u001b[0m: name 'df_cases' is not defined"
     ]
    }
   ],
   "source": [
    "#merge dataframes\n",
    "df = pd.merge(df_cases,df_deaths)\n",
    "##df = df.groupby(['state','date']).agg({'confirmed cases':'sum','deaths':'sum'}).reset_index()\n",
    "df"
   ]
  },
  {
   "cell_type": "markdown",
   "metadata": {},
   "source": [
    "## Which top 5 states has the most covid cases?"
   ]
  },
  {
   "cell_type": "code",
   "execution_count": null,
   "metadata": {},
   "outputs": [],
   "source": [
    "cases_unpivot.groupby('state').sum().sort_values('cases', ascending=False).head(5).round({'cases': 0}).astype(int).reset_index()"
   ]
  },
  {
   "cell_type": "markdown",
   "metadata": {},
   "source": [
    "## Which state had the highest covid cases?"
   ]
  },
  {
   "cell_type": "code",
   "execution_count": null,
   "metadata": {},
   "outputs": [],
   "source": [
    "cases_unpivot.max()"
   ]
  },
  {
   "cell_type": "markdown",
   "metadata": {},
   "source": [
    "## Which state had the most covid cases?"
   ]
  },
  {
   "cell_type": "code",
   "execution_count": null,
   "metadata": {},
   "outputs": [],
   "source": [
    "cases_unpivot.groupby('state').sum()"
   ]
  },
  {
   "cell_type": "code",
   "execution_count": null,
   "metadata": {},
   "outputs": [],
   "source": []
  }
 ],
 "metadata": {
  "kernelspec": {
   "display_name": "Python 3",
   "language": "python",
   "name": "python3"
  },
  "language_info": {
   "codemirror_mode": {
    "name": "ipython",
    "version": 3
   },
   "file_extension": ".py",
   "mimetype": "text/x-python",
   "name": "python",
   "nbconvert_exporter": "python",
   "pygments_lexer": "ipython3",
   "version": "3.8.1"
  }
 },
 "nbformat": 4,
 "nbformat_minor": 4
}
